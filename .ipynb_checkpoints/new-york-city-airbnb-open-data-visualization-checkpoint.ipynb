{
 "cells": [
  {
   "cell_type": "markdown",
   "metadata": {},
   "source": [
    "![](https://66.media.tumblr.com/fac4306e758efc68ce8ec40b5489c34c/tumblr_p7qz2jdSSN1ruxyndo3_1280.jpg)"
   ]
  },
  {
   "cell_type": "code",
   "execution_count": null,
   "metadata": {
    "_cell_guid": "b1076dfc-b9ad-4769-8c92-a6c4dae69d19",
    "_kg_hide-input": true,
    "_uuid": "8f2839f25d086af736a60e9eeb907d3b93b6e0e5"
   },
   "outputs": [],
   "source": [
    "# This Python 3 environment comes with many helpful analytics libraries installed\n",
    "# It is defined by the kaggle/python docker image: https://github.com/kaggle/docker-python\n",
    "# For example, here's several helpful packages to load in \n",
    "\n",
    "import numpy as np # linear algebra\n",
    "import pandas as pd # data processing, CSV file I/O (e.g. pd.read_csv)\n",
    "import plotly.offline as pyo\n",
    "import plotly.graph_objs as go\n",
    "import seaborn as sns\n",
    "import matplotlib.pyplot as plt\n",
    "import plotly.express as px\n",
    "\n",
    "%matplotlib inline\n",
    "from ipywidgets import widgets\n",
    "\n",
    "\n",
    "# Input data files are available in the \"../input/\" directory.\n",
    "# For example, running this (by clicking run or pressing Shift+Enter) will list all files under the input directory\n",
    "\n",
    "import os\n",
    "for dirname, _, filenames in os.walk('/kaggle/input'):\n",
    "    for filename in filenames:\n",
    "        print(os.path.join(dirname, filename))\n",
    "\n",
    "# Any results you write to the current directory are saved as output."
   ]
  },
  {
   "cell_type": "code",
   "execution_count": null,
   "metadata": {
    "_cell_guid": "79c7e3d0-c299-4dcb-8224-4455121ee9b0",
    "_uuid": "d629ff2d2480ee46fbb7e2d37f6b5fab8052498a"
   },
   "outputs": [],
   "source": [
    "df = pd.read_csv(\"../input/new-york-city-airbnb-open-data/AB_NYC_2019.csv\")"
   ]
  },
  {
   "cell_type": "code",
   "execution_count": null,
   "metadata": {},
   "outputs": [],
   "source": [
    "df.head()"
   ]
  },
  {
   "cell_type": "code",
   "execution_count": null,
   "metadata": {},
   "outputs": [],
   "source": [
    "df.info()"
   ]
  },
  {
   "cell_type": "markdown",
   "metadata": {},
   "source": [
    "# Removing Outliers "
   ]
  },
  {
   "cell_type": "code",
   "execution_count": null,
   "metadata": {},
   "outputs": [],
   "source": [
    "df= df.drop(df[(df['minimum_nights']>365)].index)\n",
    "df= df.drop(df[(df['number_of_reviews']>500)].index)\n",
    "df= df.drop(df[(df['calculated_host_listings_count']>100)].index)\n",
    "df= df.drop(df[(df['price']>1800)].index)\n",
    "df= df.drop(df[(df['price']<1)].index)\n",
    "\n",
    "df.describe()"
   ]
  },
  {
   "cell_type": "markdown",
   "metadata": {},
   "source": [
    "# Lets Plot something now ;)"
   ]
  },
  {
   "cell_type": "markdown",
   "metadata": {},
   "source": [
    "Types of Neighbourhood groups and their price"
   ]
  },
  {
   "cell_type": "code",
   "execution_count": null,
   "metadata": {},
   "outputs": [],
   "source": [
    "\n",
    "df.neighbourhood_group.unique()"
   ]
  },
  {
   "cell_type": "code",
   "execution_count": null,
   "metadata": {},
   "outputs": [],
   "source": [
    "neighbour_group_df =df.pivot_table('price', ['neighbourhood_group'], aggfunc='mean').reset_index()"
   ]
  },
  {
   "cell_type": "code",
   "execution_count": null,
   "metadata": {},
   "outputs": [],
   "source": [
    "fig = px.bar(neighbour_group_df, x='neighbourhood_group', y='price',\n",
    "             hover_data=['price'], color='price',  barmode ='relative',\n",
    "             labels={'pop':'Neighbourhood group and their pricing'}, height=400, width=800)\n",
    "\n",
    "fig.show()"
   ]
  },
  {
   "cell_type": "code",
   "execution_count": null,
   "metadata": {},
   "outputs": [],
   "source": [
    "\n",
    "fig = px.histogram(df, x=\"neighbourhood_group\", color = 'neighbourhood_group', height=600, width=800, )\n",
    "fig.update_layout(showlegend = True)\n",
    "fig.show()"
   ]
  },
  {
   "cell_type": "markdown",
   "metadata": {},
   "source": [
    "Checking the types of room in the NewYork Aibnbs"
   ]
  },
  {
   "cell_type": "code",
   "execution_count": null,
   "metadata": {
    "_kg_hide-input": false,
    "_kg_hide-output": false
   },
   "outputs": [],
   "source": [
    "roomdf = df.groupby('room_type').size()/df['room_type'].count()*100\n",
    "labels = roomdf.index\n",
    "values = roomdf.values\n",
    "\n",
    "# Use `hole` to create a donut-like pie chart\n",
    "fig = go.Figure(data=[go.Pie(labels=labels, values=values, hole=.3)])\n",
    "fig.show()"
   ]
  },
  {
   "cell_type": "code",
   "execution_count": null,
   "metadata": {},
   "outputs": [],
   "source": [
    "neighbour_df =df.pivot_table(['price', 'number_of_reviews', 'calculated_host_listings_count', 'neighbourhood_group' ] , ['neighbourhood'], aggfunc='mean').reset_index()"
   ]
  },
  {
   "cell_type": "code",
   "execution_count": null,
   "metadata": {},
   "outputs": [],
   "source": [
    "fig = px.scatter(neighbour_df, x=\"neighbourhood\", y=\"price\", color=\"calculated_host_listings_count\",\n",
    "                 size='price', height=500, width=800)\n",
    "fig.update_layout(showlegend = False)\n",
    "fig.show()"
   ]
  },
  {
   "cell_type": "markdown",
   "metadata": {},
   "source": [
    "The one Neighbourhood which stands out from the above visualization is **Murray hill**  having the maximum average host listing counts."
   ]
  },
  {
   "cell_type": "code",
   "execution_count": null,
   "metadata": {},
   "outputs": [],
   "source": [
    "fig = px.histogram(df, x=\"price\", color = 'neighbourhood_group',marginal=\"rug\",  hover_data=df.columns, height=600, width=800, )\n",
    "fig.update_layout(showlegend = False)\n",
    "fig.show()"
   ]
  },
  {
   "cell_type": "markdown",
   "metadata": {},
   "source": [
    "We can clearly see that the **Staten Island ** have most airbnbs with minimum price \n",
    "\n",
    "Now checking the Airbnbs with low pricing and high number of reviews"
   ]
  },
  {
   "cell_type": "code",
   "execution_count": null,
   "metadata": {},
   "outputs": [],
   "source": [
    "airbnb_100 = df.nsmallest(200,'price')\n",
    "fig = px.scatter(airbnb_100, x=\"host_name\", y=\"reviews_per_month\", color=\"price\", size = 'calculated_host_listings_count', height=500, width=800)\n",
    "fig.update_layout(showlegend = False)\n",
    "fig.show()"
   ]
  },
  {
   "cell_type": "markdown",
   "metadata": {},
   "source": [
    "Of all the Airbnbs with low price there are some which stands out. Here is the listing of Top 5 Airbnbs with low price and high reviews per month.\n",
    " \n",
    "1. Beautiful furnished private studio with backyard hosted by Melissa having the price **20 dollars**\n",
    "2. 8mins to JFK airport, separate door & bathroom hosted by Modesta having the price  **25 dollars**\n",
    "3. Private room with visit to queens #4 hosted by Sonia having the price **25 dollars**\n",
    "4. Happy Home 3 by Raquek having the price **13 dollars**\n",
    "5. Spacious 2-bedroom Apt in Heart of Greenpoint hosted by Vishanti and Jeremy having the price **10 dollars**\n",
    "\n",
    "----------------------------------------------------------------------------------------------------------------"
   ]
  },
  {
   "cell_type": "markdown",
   "metadata": {},
   "source": [
    " Let's check the Airbnbs with high price and lets try to find some insights"
   ]
  },
  {
   "cell_type": "code",
   "execution_count": null,
   "metadata": {},
   "outputs": [],
   "source": [
    "large_airbnb_200 = df.nlargest(200,'price')\n",
    "fig = px.scatter(large_airbnb_200, x=\"price\", y=\"reviews_per_month\", color=\"neighbourhood_group\", size = 'calculated_host_listings_count', \n",
    "                 hover_data=large_airbnb_200.columns, height=500, width=800)\n",
    "fig.update_layout(showlegend = False)\n",
    "fig.show()"
   ]
  },
  {
   "cell_type": "markdown",
   "metadata": {},
   "source": [
    "From the above Visualization it's clearly visible that most Airbnbs are in **Manhattan** .\n",
    "Out of all these Airbnbs the one which stands out is **Empire city- king Lux King room** hosted by Gabriel.\n",
    "\n",
    "Feel free to hover the mouse over these data points and extract out the information"
   ]
  },
  {
   "cell_type": "code",
   "execution_count": null,
   "metadata": {},
   "outputs": [],
   "source": []
  },
  {
   "cell_type": "markdown",
   "metadata": {},
   "source": [
    "Now lets plot these areas and see what information can be extracted"
   ]
  },
  {
   "cell_type": "code",
   "execution_count": null,
   "metadata": {
    "_kg_hide-input": true
   },
   "outputs": [],
   "source": [
    "import plotly.express as px\n",
    "\n",
    "mapbox_access_token = 'pk.eyJ1IjoiYmlkZHkiLCJhIjoiY2pxNWZ1bjZ6MjRjczRhbXNxeG5udzkyNSJ9.xX6QLOAcoBmXZdUdocAeuA'\n",
    "px.set_mapbox_access_token(mapbox_access_token)\n",
    "fig = px.scatter_mapbox(df, lat=\"latitude\", lon=\"longitude\", color=\"neighbourhood_group\", size = 'price', opacity= 0.8,\n",
    "                  color_continuous_scale=px.colors.cyclical.IceFire, size_max=16, zoom=9.2,height=400, width=800 )\n",
    "fig.update_layout(\n",
    "    mapbox_style=\"white-bg\",\n",
    "    showlegend = False,\n",
    "    mapbox_layers=[\n",
    "        {\n",
    "            \"below\": 'traces',\n",
    "            \"sourcetype\": \"raster\",\n",
    "            \"source\": [\n",
    "                \"https://basemap.nationalmap.gov/arcgis/rest/services/USGSImageryOnly/MapServer/tile/{z}/{y}/{x}\"\n",
    "            ]\n",
    "        },\n",
    "      ]\n",
    ")\n",
    "fig.update_layout(margin={\"r\":0,\"t\":0,\"l\":0,\"b\":4})\n",
    "fig.show()"
   ]
  },
  {
   "cell_type": "markdown",
   "metadata": {},
   "source": [
    "Done for the day, I'll upload some more interactive visualization tomorrow. Give me a thumbs up if you like it :)"
   ]
  }
 ],
 "metadata": {
  "kernelspec": {
   "display_name": "Python 3",
   "language": "python",
   "name": "python3"
  },
  "language_info": {
   "codemirror_mode": {
    "name": "ipython",
    "version": 3
   },
   "file_extension": ".py",
   "mimetype": "text/x-python",
   "name": "python",
   "nbconvert_exporter": "python",
   "pygments_lexer": "ipython3",
   "version": "3.7.3"
  }
 },
 "nbformat": 4,
 "nbformat_minor": 1
}
